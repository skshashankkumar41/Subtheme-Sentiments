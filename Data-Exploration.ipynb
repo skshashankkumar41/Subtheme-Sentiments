{
 "cells": [
  {
   "cell_type": "code",
   "execution_count": 30,
   "metadata": {},
   "outputs": [],
   "source": [
    "import pandas as pd"
   ]
  },
  {
   "cell_type": "code",
   "execution_count": 62,
   "metadata": {},
   "outputs": [],
   "source": [
    "df = pd.read_csv('Evaluation-dataset.csv',header = None)"
   ]
  },
  {
   "cell_type": "code",
   "execution_count": 63,
   "metadata": {},
   "outputs": [
    {
     "data": {
      "text/html": [
       "<div>\n",
       "<style scoped>\n",
       "    .dataframe tbody tr th:only-of-type {\n",
       "        vertical-align: middle;\n",
       "    }\n",
       "\n",
       "    .dataframe tbody tr th {\n",
       "        vertical-align: top;\n",
       "    }\n",
       "\n",
       "    .dataframe thead th {\n",
       "        text-align: right;\n",
       "    }\n",
       "</style>\n",
       "<table border=\"1\" class=\"dataframe\">\n",
       "  <thead>\n",
       "    <tr style=\"text-align: right;\">\n",
       "      <th></th>\n",
       "      <th>0</th>\n",
       "      <th>1</th>\n",
       "      <th>2</th>\n",
       "      <th>3</th>\n",
       "      <th>4</th>\n",
       "      <th>5</th>\n",
       "      <th>6</th>\n",
       "      <th>7</th>\n",
       "      <th>8</th>\n",
       "      <th>9</th>\n",
       "      <th>10</th>\n",
       "      <th>11</th>\n",
       "      <th>12</th>\n",
       "      <th>13</th>\n",
       "      <th>14</th>\n",
       "    </tr>\n",
       "  </thead>\n",
       "  <tbody>\n",
       "    <tr>\n",
       "      <td>0</td>\n",
       "      <td>Tires where delivered to the garage of my choi...</td>\n",
       "      <td>garage service positive</td>\n",
       "      <td>ease of booking positive</td>\n",
       "      <td>NaN</td>\n",
       "      <td>NaN</td>\n",
       "      <td>NaN</td>\n",
       "      <td>NaN</td>\n",
       "      <td>NaN</td>\n",
       "      <td>NaN</td>\n",
       "      <td>NaN</td>\n",
       "      <td>NaN</td>\n",
       "      <td>NaN</td>\n",
       "      <td>NaN</td>\n",
       "      <td>NaN</td>\n",
       "      <td>NaN</td>\n",
       "    </tr>\n",
       "    <tr>\n",
       "      <td>1</td>\n",
       "      <td>Easy Tyre Selection Process, Competitive Prici...</td>\n",
       "      <td>garage service positive</td>\n",
       "      <td>value for money positive</td>\n",
       "      <td>NaN</td>\n",
       "      <td>NaN</td>\n",
       "      <td>NaN</td>\n",
       "      <td>NaN</td>\n",
       "      <td>NaN</td>\n",
       "      <td>NaN</td>\n",
       "      <td>NaN</td>\n",
       "      <td>NaN</td>\n",
       "      <td>NaN</td>\n",
       "      <td>NaN</td>\n",
       "      <td>NaN</td>\n",
       "      <td>NaN</td>\n",
       "    </tr>\n",
       "  </tbody>\n",
       "</table>\n",
       "</div>"
      ],
      "text/plain": [
       "                                                  0                        1   \\\n",
       "0  Tires where delivered to the garage of my choi...  garage service positive   \n",
       "1  Easy Tyre Selection Process, Competitive Prici...  garage service positive   \n",
       "\n",
       "                         2    3    4    5    6    7    8    9    10   11   12  \\\n",
       "0  ease of booking positive  NaN  NaN  NaN  NaN  NaN  NaN  NaN  NaN  NaN  NaN   \n",
       "1  value for money positive  NaN  NaN  NaN  NaN  NaN  NaN  NaN  NaN  NaN  NaN   \n",
       "\n",
       "    13   14  \n",
       "0  NaN  NaN  \n",
       "1  NaN  NaN  "
      ]
     },
     "execution_count": 63,
     "metadata": {},
     "output_type": "execute_result"
    }
   ],
   "source": [
    "df.head(2)"
   ]
  },
  {
   "cell_type": "code",
   "execution_count": 65,
   "metadata": {},
   "outputs": [],
   "source": [
    "df = df.fillna('')"
   ]
  },
  {
   "cell_type": "code",
   "execution_count": 66,
   "metadata": {},
   "outputs": [
    {
     "data": {
      "text/plain": [
       "0     0\n",
       "1     0\n",
       "2     0\n",
       "3     0\n",
       "4     0\n",
       "5     0\n",
       "6     0\n",
       "7     0\n",
       "8     0\n",
       "9     0\n",
       "10    0\n",
       "11    0\n",
       "12    0\n",
       "13    0\n",
       "14    0\n",
       "dtype: int64"
      ]
     },
     "execution_count": 66,
     "metadata": {},
     "output_type": "execute_result"
    }
   ],
   "source": [
    "df.isnull().sum()\n",
    "\n"
   ]
  },
  {
   "cell_type": "code",
   "execution_count": 67,
   "metadata": {},
   "outputs": [],
   "source": [
    "columns = ['text']\n",
    "labels = []\n",
    "for idx in range(1, 15):\n",
    "    name = 'label_' + str(idx)\n",
    "    labels.append(name)\n",
    "    columns.append(name)\n",
    "\n",
    "df.columns = columns"
   ]
  },
  {
   "cell_type": "code",
   "execution_count": 68,
   "metadata": {},
   "outputs": [],
   "source": [
    "df['target'] = df[labels].values.tolist()"
   ]
  },
  {
   "cell_type": "code",
   "execution_count": 69,
   "metadata": {},
   "outputs": [
    {
     "data": {
      "text/html": [
       "<div>\n",
       "<style scoped>\n",
       "    .dataframe tbody tr th:only-of-type {\n",
       "        vertical-align: middle;\n",
       "    }\n",
       "\n",
       "    .dataframe tbody tr th {\n",
       "        vertical-align: top;\n",
       "    }\n",
       "\n",
       "    .dataframe thead th {\n",
       "        text-align: right;\n",
       "    }\n",
       "</style>\n",
       "<table border=\"1\" class=\"dataframe\">\n",
       "  <thead>\n",
       "    <tr style=\"text-align: right;\">\n",
       "      <th></th>\n",
       "      <th>text</th>\n",
       "      <th>label_1</th>\n",
       "      <th>label_2</th>\n",
       "      <th>label_3</th>\n",
       "      <th>label_4</th>\n",
       "      <th>label_5</th>\n",
       "      <th>label_6</th>\n",
       "      <th>label_7</th>\n",
       "      <th>label_8</th>\n",
       "      <th>label_9</th>\n",
       "      <th>label_10</th>\n",
       "      <th>label_11</th>\n",
       "      <th>label_12</th>\n",
       "      <th>label_13</th>\n",
       "      <th>label_14</th>\n",
       "      <th>target</th>\n",
       "    </tr>\n",
       "  </thead>\n",
       "  <tbody>\n",
       "    <tr>\n",
       "      <td>0</td>\n",
       "      <td>Tires where delivered to the garage of my choi...</td>\n",
       "      <td>garage service positive</td>\n",
       "      <td>ease of booking positive</td>\n",
       "      <td></td>\n",
       "      <td></td>\n",
       "      <td></td>\n",
       "      <td></td>\n",
       "      <td></td>\n",
       "      <td></td>\n",
       "      <td></td>\n",
       "      <td></td>\n",
       "      <td></td>\n",
       "      <td></td>\n",
       "      <td></td>\n",
       "      <td></td>\n",
       "      <td>[garage service positive, ease of booking posi...</td>\n",
       "    </tr>\n",
       "    <tr>\n",
       "      <td>1</td>\n",
       "      <td>Easy Tyre Selection Process, Competitive Prici...</td>\n",
       "      <td>garage service positive</td>\n",
       "      <td>value for money positive</td>\n",
       "      <td></td>\n",
       "      <td></td>\n",
       "      <td></td>\n",
       "      <td></td>\n",
       "      <td></td>\n",
       "      <td></td>\n",
       "      <td></td>\n",
       "      <td></td>\n",
       "      <td></td>\n",
       "      <td></td>\n",
       "      <td></td>\n",
       "      <td></td>\n",
       "      <td>[garage service positive, value for money posi...</td>\n",
       "    </tr>\n",
       "  </tbody>\n",
       "</table>\n",
       "</div>"
      ],
      "text/plain": [
       "                                                text                  label_1  \\\n",
       "0  Tires where delivered to the garage of my choi...  garage service positive   \n",
       "1  Easy Tyre Selection Process, Competitive Prici...  garage service positive   \n",
       "\n",
       "                    label_2 label_3 label_4 label_5 label_6 label_7 label_8  \\\n",
       "0  ease of booking positive                                                   \n",
       "1  value for money positive                                                   \n",
       "\n",
       "  label_9 label_10 label_11 label_12 label_13 label_14  \\\n",
       "0                                                        \n",
       "1                                                        \n",
       "\n",
       "                                              target  \n",
       "0  [garage service positive, ease of booking posi...  \n",
       "1  [garage service positive, value for money posi...  "
      ]
     },
     "execution_count": 69,
     "metadata": {},
     "output_type": "execute_result"
    }
   ],
   "source": [
    "df.head(2)"
   ]
  },
  {
   "cell_type": "code",
   "execution_count": 70,
   "metadata": {},
   "outputs": [],
   "source": [
    "def remove_empty(text):\n",
    "    return [lab for lab in text if lab != '']"
   ]
  },
  {
   "cell_type": "code",
   "execution_count": 72,
   "metadata": {},
   "outputs": [],
   "source": [
    "def remove_space(text):\n",
    "    return [lab.strip() for lab in text]"
   ]
  },
  {
   "cell_type": "code",
   "execution_count": 73,
   "metadata": {},
   "outputs": [],
   "source": [
    "df['target'] = df['target'].map(remove_empty)"
   ]
  },
  {
   "cell_type": "code",
   "execution_count": 74,
   "metadata": {},
   "outputs": [],
   "source": [
    "df['target'] = df['target'].map(remove_space)"
   ]
  },
  {
   "cell_type": "code",
   "execution_count": 75,
   "metadata": {},
   "outputs": [],
   "source": [
    "df_final =  df[['text','target']]"
   ]
  },
  {
   "cell_type": "code",
   "execution_count": 76,
   "metadata": {},
   "outputs": [
    {
     "data": {
      "text/html": [
       "<div>\n",
       "<style scoped>\n",
       "    .dataframe tbody tr th:only-of-type {\n",
       "        vertical-align: middle;\n",
       "    }\n",
       "\n",
       "    .dataframe tbody tr th {\n",
       "        vertical-align: top;\n",
       "    }\n",
       "\n",
       "    .dataframe thead th {\n",
       "        text-align: right;\n",
       "    }\n",
       "</style>\n",
       "<table border=\"1\" class=\"dataframe\">\n",
       "  <thead>\n",
       "    <tr style=\"text-align: right;\">\n",
       "      <th></th>\n",
       "      <th>text</th>\n",
       "      <th>target</th>\n",
       "    </tr>\n",
       "  </thead>\n",
       "  <tbody>\n",
       "    <tr>\n",
       "      <td>0</td>\n",
       "      <td>Tires where delivered to the garage of my choi...</td>\n",
       "      <td>[garage service positive, ease of booking posi...</td>\n",
       "    </tr>\n",
       "    <tr>\n",
       "      <td>1</td>\n",
       "      <td>Easy Tyre Selection Process, Competitive Prici...</td>\n",
       "      <td>[garage service positive, value for money posi...</td>\n",
       "    </tr>\n",
       "  </tbody>\n",
       "</table>\n",
       "</div>"
      ],
      "text/plain": [
       "                                                text  \\\n",
       "0  Tires where delivered to the garage of my choi...   \n",
       "1  Easy Tyre Selection Process, Competitive Prici...   \n",
       "\n",
       "                                              target  \n",
       "0  [garage service positive, ease of booking posi...  \n",
       "1  [garage service positive, value for money posi...  "
      ]
     },
     "execution_count": 76,
     "metadata": {},
     "output_type": "execute_result"
    }
   ],
   "source": [
    "df_final.head(2)"
   ]
  },
  {
   "cell_type": "code",
   "execution_count": 81,
   "metadata": {},
   "outputs": [
    {
     "data": {
      "text/plain": [
       "(10132, 2)"
      ]
     },
     "execution_count": 81,
     "metadata": {},
     "output_type": "execute_result"
    }
   ],
   "source": [
    "df_final.shape"
   ]
  },
  {
   "cell_type": "code",
   "execution_count": 85,
   "metadata": {},
   "outputs": [],
   "source": [
    "df_final = df_final[df_final[\"target\"].str.len() != 0]\n"
   ]
  },
  {
   "cell_type": "code",
   "execution_count": 86,
   "metadata": {},
   "outputs": [
    {
     "data": {
      "text/plain": [
       "(8129, 2)"
      ]
     },
     "execution_count": 86,
     "metadata": {},
     "output_type": "execute_result"
    }
   ],
   "source": [
    "df_final.shape"
   ]
  },
  {
   "cell_type": "code",
   "execution_count": null,
   "metadata": {},
   "outputs": [],
   "source": []
  },
  {
   "cell_type": "code",
   "execution_count": 96,
   "metadata": {},
   "outputs": [
    {
     "data": {
      "text/plain": [
       "103"
      ]
     },
     "execution_count": 96,
     "metadata": {},
     "output_type": "execute_result"
    }
   ],
   "source": [
    "len(df_final.target.explode().unique())"
   ]
  },
  {
   "cell_type": "code",
   "execution_count": 91,
   "metadata": {},
   "outputs": [],
   "source": [
    "def replace_label(src,trg):\n",
    "    def replace(texts):\n",
    "        return [lab if lab != src else trg for lab in texts]\n",
    "    \n",
    "    df_final['target'] = df_final['target'].map(replace)\n",
    "    \n",
    "    \n",
    "        \n",
    "    "
   ]
  },
  {
   "cell_type": "code",
   "execution_count": 92,
   "metadata": {},
   "outputs": [
    {
     "name": "stderr",
     "output_type": "stream",
     "text": [
      "C:\\Users\\SKS\\Anaconda3\\lib\\site-packages\\ipykernel_launcher.py:5: SettingWithCopyWarning: \n",
      "A value is trying to be set on a copy of a slice from a DataFrame.\n",
      "Try using .loc[row_indexer,col_indexer] = value instead\n",
      "\n",
      "See the caveats in the documentation: http://pandas.pydata.org/pandas-docs/stable/user_guide/indexing.html#returning-a-view-versus-a-copy\n",
      "  \"\"\"\n"
     ]
    }
   ],
   "source": [
    "replace_label('advisor/agent service positive','advisoragent service positive')"
   ]
  },
  {
   "cell_type": "code",
   "execution_count": 93,
   "metadata": {},
   "outputs": [
    {
     "name": "stderr",
     "output_type": "stream",
     "text": [
      "C:\\Users\\SKS\\Anaconda3\\lib\\site-packages\\ipykernel_launcher.py:5: SettingWithCopyWarning: \n",
      "A value is trying to be set on a copy of a slice from a DataFrame.\n",
      "Try using .loc[row_indexer,col_indexer] = value instead\n",
      "\n",
      "See the caveats in the documentation: http://pandas.pydata.org/pandas-docs/stable/user_guide/indexing.html#returning-a-view-versus-a-copy\n",
      "  \"\"\"\n"
     ]
    }
   ],
   "source": [
    "replace_label('advisor/agent service negative','advisoragent service negative')"
   ]
  },
  {
   "cell_type": "code",
   "execution_count": 94,
   "metadata": {},
   "outputs": [
    {
     "name": "stderr",
     "output_type": "stream",
     "text": [
      "C:\\Users\\SKS\\Anaconda3\\lib\\site-packages\\ipykernel_launcher.py:5: SettingWithCopyWarning: \n",
      "A value is trying to be set on a copy of a slice from a DataFrame.\n",
      "Try using .loc[row_indexer,col_indexer] = value instead\n",
      "\n",
      "See the caveats in the documentation: http://pandas.pydata.org/pandas-docs/stable/user_guide/indexing.html#returning-a-view-versus-a-copy\n",
      "  \"\"\"\n"
     ]
    }
   ],
   "source": [
    "replace_label('tyre age/dot code negative','tyre agedot code negative')"
   ]
  },
  {
   "cell_type": "code",
   "execution_count": 97,
   "metadata": {
    "scrolled": false
   },
   "outputs": [
    {
     "data": {
      "text/plain": [
       "dict_items([('garage service positive', 2031), ('ease of booking positive', 1187), ('value for money positive', 4780), ('location positive', 1063), ('length of fitting positive', 657), ('ease of booking negative', 227), ('change of date negative', 277), ('tyre quality positive', 434), ('garage service negative', 423), ('wait time negative', 135), ('delivery punctuality positive', 453), ('mobile fitter positive', 225), ('advisoragent service positive', 435), ('wait time positive', 274), ('extra charges positive', 85), ('length of fitting negative', 109), ('location negative', 27), ('value for money negative', 136), ('damage negative', 127), ('mobile fitter negative', 28), ('balancing positive', 14), ('facilities positive', 33), ('change of time negative', 42), ('extra charges negative', 46), ('booking confusion negative', 119), ('late notice negative', 76), ('delivery punctuality negative', 250), ('discounts positive', 115), ('tyre quality negative', 40), ('change of date positive', 21), ('refund not actioned positive', 1), ('refund timescale positive', 6), (\"mobile fitter didn't arrive positive\", 1), ('change of time positive', 1), ('discount not applied positive', 1), ('tyre agedot code positive', 2), ('failed payment positive', 1), ('late notice positive', 1), ('incorrect tyres sent positive', 2), ('call wait time positive', 1), ('refund positive', 28), ('no stock positive', 1), ('advisoragent service negative', 172), ('call wait time negative', 24), ('response time negative', 77), ('balancing negative', 24), ('response time positive', 34), ('incorrect tyres sent negative', 70), ('no stock negative', 42), ('refund not actioned negative', 14), (\"mobile fitter didn't arrive negative\", 14), ('refund negative', 25), ('discounts negative', 28), ('tyre agedot code negative', 17), ('discount not applied negative', 9), ('telephone help avaiable if required.', 1), ('refund timescale negative', 10), ('good service', 1), ('clean reception area and free coffee', 1), ('polite staff', 1), ('good price', 2), ('great price.', 1), ('fitting took a long time.', 1), ('facilities negative', 18), ('failed payment negative', 5), ('keep it up! Will definitely buy from you again.', 1), (\"they looked grey and old (but unused) not at all how new tyres normally look. Not surprising when I inspected the 'Dot Date' and it was 4517 (ie tyres manufactured in week 45 of 2017.Queried this with [REDACTED] who told me that they have many different suppliers and do not check the age of the tyres.They could re-order but no guarantee that the replacements would be any newer. Not at all happy and requested a refund which they say they will do.\", 1), ('good communication', 1), ('prompt deliveries...', 1), ('easily navigable web site', 1), ('slick delivery service and good fitter.', 1), ('tje garage i choice to go to in order to have the tyres fitted was nit that good and i certainly will not be using them again.', 1), ('good local fitting services', 1), ('simple to use website', 1), ('Garage was quick & efficient with fitting of tyres', 1), ('only 8 as the garage was unable to fit the tyres in the allotted time and I had to wait over an hour.', 1), ('Great garage fitted them', 1), ('Cheapest price', 1), ('really good prices', 1), ('really friendly and efficient service.', 1), ('booking confusion positive', 2), ('ability to browse through various makes of tyres before making a decision', 1), ('simple fitting procedure', 1), ('easy to browse selection of tyres before making a choice', 1), ('simple booking for fitting procedure.', 1), ('hassle free', 1), ('good range and competitive prices on website', 1), ('the site is easy to use', 1), ('it feels more transparent than buying from a mechanic based on their opinion.', 1), (')', 1), ('and both times have been good experiences.', 1), ('staff were courteous', 1), ('no issues', 1), ('faster than dealerships to arrange supply and partnership with ATS works well .', 1), ('won’t be using anyone else.', 1), ('wide choice of tyres at great prices including delivery and fitting.', 1), ('good prices', 1), ('recommended a great local shop for fitting', 1), ('my tyre supplier of choice!.', 1), ('and an excellent service from the garage who fitted the tyre.', 1), ('the process was simple and quick.Regular offers make it easy to find premium tyres at decent prices.', 1), ('cheaper than anything else I have found by some way.', 1), (\"one tyre with dangerously low air pressure. Asked the garage to top up the tyre and check the other three. They did top up the one tyre but didn't bother to check the others. When I checked the tyres 10 minutes later all four tyres had varying pressures (from 29 to 37.5). I emailed both companies and have not received an apology from either. I will never use Lavender Motors again (they shouldn't be in business) and likely not [REDACTED].com either.\", 1)])"
      ]
     },
     "execution_count": 97,
     "metadata": {},
     "output_type": "execute_result"
    }
   ],
   "source": [
    "from collections import Counter\n",
    "Counter(df_final.target.explode()).items()"
   ]
  },
  {
   "cell_type": "code",
   "execution_count": 130,
   "metadata": {},
   "outputs": [],
   "source": [
    "garbage_label = []\n",
    "for label,count in Counter(df_final.target.explode()).items():\n",
    "    if count < 5:\n",
    "        if 'positive' not in label.split():\n",
    "            if 'negative' not in label.split():\n",
    "                garbage_label.append(label)"
   ]
  },
  {
   "cell_type": "code",
   "execution_count": 131,
   "metadata": {},
   "outputs": [
    {
     "data": {
      "text/plain": [
       "44"
      ]
     },
     "execution_count": 131,
     "metadata": {},
     "output_type": "execute_result"
    }
   ],
   "source": [
    "for i in range(len(df_final))"
   ]
  },
  {
   "cell_type": "code",
   "execution_count": 133,
   "metadata": {},
   "outputs": [
    {
     "data": {
      "text/plain": [
       "(8129, 2)"
      ]
     },
     "execution_count": 133,
     "metadata": {},
     "output_type": "execute_result"
    }
   ],
   "source": [
    "df_final.shape"
   ]
  },
  {
   "cell_type": "code",
   "execution_count": 142,
   "metadata": {},
   "outputs": [
    {
     "name": "stderr",
     "output_type": "stream",
     "text": [
      "100%|█████████████████████████████████████████████| 8129/8129 [00:03<00:00, 2419.93it/s]\n"
     ]
    }
   ],
   "source": [
    "from tqdm import tqdm\n",
    "for i in tqdm(range(len(df_final))):\n",
    "    for gLabel in garbage_label:\n",
    "        if gLabel in df_final.iloc[i,1]:\n",
    "            df_final.iloc[i,1].remove(gLabel)\n",
    "    "
   ]
  },
  {
   "cell_type": "code",
   "execution_count": 143,
   "metadata": {},
   "outputs": [
    {
     "data": {
      "text/plain": [
       "(8129, 2)"
      ]
     },
     "execution_count": 143,
     "metadata": {},
     "output_type": "execute_result"
    }
   ],
   "source": [
    "df_final.shape"
   ]
  },
  {
   "cell_type": "code",
   "execution_count": 144,
   "metadata": {},
   "outputs": [],
   "source": [
    "df_final = df_final[df_final[\"target\"].str.len() != 0]"
   ]
  },
  {
   "cell_type": "code",
   "execution_count": 145,
   "metadata": {},
   "outputs": [
    {
     "data": {
      "text/plain": [
       "(8125, 2)"
      ]
     },
     "execution_count": 145,
     "metadata": {},
     "output_type": "execute_result"
    }
   ],
   "source": [
    "df_final.shape"
   ]
  },
  {
   "cell_type": "code",
   "execution_count": 149,
   "metadata": {},
   "outputs": [
    {
     "data": {
      "text/plain": [
       "['telephone help avaiable if required.',\n",
       " 'good service',\n",
       " 'clean reception area and free coffee',\n",
       " 'polite staff',\n",
       " 'good price',\n",
       " 'great price.',\n",
       " 'fitting took a long time.',\n",
       " 'keep it up! Will definitely buy from you again.',\n",
       " \"they looked grey and old (but unused) not at all how new tyres normally look. Not surprising when I inspected the 'Dot Date' and it was 4517 (ie tyres manufactured in week 45 of 2017.Queried this with [REDACTED] who told me that they have many different suppliers and do not check the age of the tyres.They could re-order but no guarantee that the replacements would be any newer. Not at all happy and requested a refund which they say they will do.\",\n",
       " 'good communication',\n",
       " 'prompt deliveries...',\n",
       " 'easily navigable web site',\n",
       " 'slick delivery service and good fitter.',\n",
       " 'tje garage i choice to go to in order to have the tyres fitted was nit that good and i certainly will not be using them again.',\n",
       " 'good local fitting services',\n",
       " 'simple to use website',\n",
       " 'Garage was quick & efficient with fitting of tyres',\n",
       " 'only 8 as the garage was unable to fit the tyres in the allotted time and I had to wait over an hour.',\n",
       " 'Great garage fitted them',\n",
       " 'Cheapest price',\n",
       " 'really good prices',\n",
       " 'really friendly and efficient service.',\n",
       " 'ability to browse through various makes of tyres before making a decision',\n",
       " 'simple fitting procedure',\n",
       " 'easy to browse selection of tyres before making a choice',\n",
       " 'simple booking for fitting procedure.',\n",
       " 'hassle free',\n",
       " 'good range and competitive prices on website',\n",
       " 'the site is easy to use',\n",
       " 'it feels more transparent than buying from a mechanic based on their opinion.',\n",
       " ')',\n",
       " 'and both times have been good experiences.',\n",
       " 'staff were courteous',\n",
       " 'no issues',\n",
       " 'faster than dealerships to arrange supply and partnership with ATS works well .',\n",
       " 'won’t be using anyone else.',\n",
       " 'wide choice of tyres at great prices including delivery and fitting.',\n",
       " 'good prices',\n",
       " 'recommended a great local shop for fitting',\n",
       " 'my tyre supplier of choice!.',\n",
       " 'and an excellent service from the garage who fitted the tyre.',\n",
       " 'the process was simple and quick.Regular offers make it easy to find premium tyres at decent prices.',\n",
       " 'cheaper than anything else I have found by some way.',\n",
       " \"one tyre with dangerously low air pressure. Asked the garage to top up the tyre and check the other three. They did top up the one tyre but didn't bother to check the others. When I checked the tyres 10 minutes later all four tyres had varying pressures (from 29 to 37.5). I emailed both companies and have not received an apology from either. I will never use Lavender Motors again (they shouldn't be in business) and likely not [REDACTED].com either.\"]"
      ]
     },
     "execution_count": 149,
     "metadata": {},
     "output_type": "execute_result"
    }
   ],
   "source": [
    "garbage_label\n"
   ]
  },
  {
   "cell_type": "code",
   "execution_count": 155,
   "metadata": {},
   "outputs": [
    {
     "data": {
      "text/plain": [
       "Counter({'garage service positive': 2031,\n",
       "         'ease of booking positive': 1187,\n",
       "         'value for money positive': 4780,\n",
       "         'location positive': 1063,\n",
       "         'length of fitting positive': 657,\n",
       "         'ease of booking negative': 227,\n",
       "         'change of date negative': 277,\n",
       "         'tyre quality positive': 434,\n",
       "         'garage service negative': 423,\n",
       "         'wait time negative': 135,\n",
       "         'delivery punctuality positive': 453,\n",
       "         'mobile fitter positive': 225,\n",
       "         'advisoragent service positive': 435,\n",
       "         'wait time positive': 274,\n",
       "         'extra charges positive': 85,\n",
       "         'length of fitting negative': 109,\n",
       "         'location negative': 27,\n",
       "         'value for money negative': 136,\n",
       "         'damage negative': 127,\n",
       "         'mobile fitter negative': 28,\n",
       "         'balancing positive': 14,\n",
       "         'facilities positive': 33,\n",
       "         'change of time negative': 42,\n",
       "         'extra charges negative': 46,\n",
       "         'booking confusion negative': 119,\n",
       "         'late notice negative': 76,\n",
       "         'delivery punctuality negative': 250,\n",
       "         'discounts positive': 115,\n",
       "         'tyre quality negative': 40,\n",
       "         'change of date positive': 21,\n",
       "         'refund not actioned positive': 1,\n",
       "         'refund timescale positive': 6,\n",
       "         \"mobile fitter didn't arrive positive\": 1,\n",
       "         'change of time positive': 1,\n",
       "         'discount not applied positive': 1,\n",
       "         'tyre agedot code positive': 2,\n",
       "         'failed payment positive': 1,\n",
       "         'late notice positive': 1,\n",
       "         'incorrect tyres sent positive': 2,\n",
       "         'call wait time positive': 1,\n",
       "         'refund positive': 28,\n",
       "         'no stock positive': 1,\n",
       "         'advisoragent service negative': 172,\n",
       "         'call wait time negative': 24,\n",
       "         'response time negative': 77,\n",
       "         'balancing negative': 24,\n",
       "         'response time positive': 34,\n",
       "         'incorrect tyres sent negative': 70,\n",
       "         'no stock negative': 42,\n",
       "         'refund not actioned negative': 14,\n",
       "         \"mobile fitter didn't arrive negative\": 14,\n",
       "         'refund negative': 25,\n",
       "         'discounts negative': 28,\n",
       "         'tyre agedot code negative': 17,\n",
       "         'discount not applied negative': 9,\n",
       "         'refund timescale negative': 10,\n",
       "         'facilities negative': 18,\n",
       "         'failed payment negative': 5,\n",
       "         'booking confusion positive': 2})"
      ]
     },
     "execution_count": 155,
     "metadata": {},
     "output_type": "execute_result"
    }
   ],
   "source": [
    "Counter(df_final.target.explode())"
   ]
  },
  {
   "cell_type": "code",
   "execution_count": 167,
   "metadata": {},
   "outputs": [],
   "source": [
    "def combine_labels(df,min_samples = 50):\n",
    "    label_counts = df_final.target.explode().value_counts()\n",
    "    label_names = label_counts.index\n",
    "    \n",
    "    fewer_labels = []\n",
    "    for i,label in enumerate(label_names):\n",
    "        if label_counts[i] < min_samples:\n",
    "            fewer_labels.append(label)\n",
    "    \n",
    "    def replace_fewer(labels):\n",
    "        fewers = []\n",
    "        for label in labels:\n",
    "            sentiment = label.split(' ')[-1]\n",
    "            if label in fewer_labels:\n",
    "                fewers.append(' '.join(['extra',sentiment]))\n",
    "            else:\n",
    "                fewers.append(label)\n",
    "                \n",
    "        return fewers \n",
    "    \n",
    "    df['target'] = df['target'].map(replace_fewer)    \n"
   ]
  },
  {
   "cell_type": "code",
   "execution_count": 180,
   "metadata": {},
   "outputs": [],
   "source": [
    "from sklearn.preprocessing import MultiLabelBinarizer\n",
    "\n",
    "def encode_labels(df):\n",
    "    le = MultiLabelBinarizer()\n",
    "    df['encoded'] = le.fit_transform(df.target.tolist()).tolist()\n",
    "    "
   ]
  },
  {
   "cell_type": "code",
   "execution_count": 181,
   "metadata": {},
   "outputs": [],
   "source": [
    "encode_labels(df_final)"
   ]
  },
  {
   "cell_type": "code",
   "execution_count": 182,
   "metadata": {},
   "outputs": [
    {
     "data": {
      "text/html": [
       "<div>\n",
       "<style scoped>\n",
       "    .dataframe tbody tr th:only-of-type {\n",
       "        vertical-align: middle;\n",
       "    }\n",
       "\n",
       "    .dataframe tbody tr th {\n",
       "        vertical-align: top;\n",
       "    }\n",
       "\n",
       "    .dataframe thead th {\n",
       "        text-align: right;\n",
       "    }\n",
       "</style>\n",
       "<table border=\"1\" class=\"dataframe\">\n",
       "  <thead>\n",
       "    <tr style=\"text-align: right;\">\n",
       "      <th></th>\n",
       "      <th>text</th>\n",
       "      <th>target</th>\n",
       "      <th>encoded</th>\n",
       "    </tr>\n",
       "  </thead>\n",
       "  <tbody>\n",
       "    <tr>\n",
       "      <td>0</td>\n",
       "      <td>Tires where delivered to the garage of my choi...</td>\n",
       "      <td>(garage service positive, ease of booking posi...</td>\n",
       "      <td>[0, 0, 0, 0, 0, 0, 0, 0, 0, 1, 0, 0, 0, 0, 1, ...</td>\n",
       "    </tr>\n",
       "    <tr>\n",
       "      <td>1</td>\n",
       "      <td>Easy Tyre Selection Process, Competitive Prici...</td>\n",
       "      <td>(garage service positive, value for money posi...</td>\n",
       "      <td>[0, 0, 0, 0, 0, 0, 0, 0, 0, 0, 0, 0, 0, 0, 1, ...</td>\n",
       "    </tr>\n",
       "    <tr>\n",
       "      <td>2</td>\n",
       "      <td>Very easy to use and good value for money.</td>\n",
       "      <td>(value for money positive,)</td>\n",
       "      <td>[0, 0, 0, 0, 0, 0, 0, 0, 0, 0, 0, 0, 0, 0, 0, ...</td>\n",
       "    </tr>\n",
       "    <tr>\n",
       "      <td>3</td>\n",
       "      <td>Really easy and convenient to arrange</td>\n",
       "      <td>(ease of booking positive,)</td>\n",
       "      <td>[0, 0, 0, 0, 0, 0, 0, 0, 0, 1, 0, 0, 0, 0, 0, ...</td>\n",
       "    </tr>\n",
       "    <tr>\n",
       "      <td>4</td>\n",
       "      <td>It was so easy to select tyre sizes and arrang...</td>\n",
       "      <td>(location positive, value for money positive, ...</td>\n",
       "      <td>[0, 0, 0, 0, 0, 0, 0, 0, 0, 1, 0, 0, 0, 0, 0, ...</td>\n",
       "    </tr>\n",
       "  </tbody>\n",
       "</table>\n",
       "</div>"
      ],
      "text/plain": [
       "                                                text  \\\n",
       "0  Tires where delivered to the garage of my choi...   \n",
       "1  Easy Tyre Selection Process, Competitive Prici...   \n",
       "2         Very easy to use and good value for money.   \n",
       "3              Really easy and convenient to arrange   \n",
       "4  It was so easy to select tyre sizes and arrang...   \n",
       "\n",
       "                                              target  \\\n",
       "0  (garage service positive, ease of booking posi...   \n",
       "1  (garage service positive, value for money posi...   \n",
       "2                        (value for money positive,)   \n",
       "3                        (ease of booking positive,)   \n",
       "4  (location positive, value for money positive, ...   \n",
       "\n",
       "                                             encoded  \n",
       "0  [0, 0, 0, 0, 0, 0, 0, 0, 0, 1, 0, 0, 0, 0, 1, ...  \n",
       "1  [0, 0, 0, 0, 0, 0, 0, 0, 0, 0, 0, 0, 0, 0, 1, ...  \n",
       "2  [0, 0, 0, 0, 0, 0, 0, 0, 0, 0, 0, 0, 0, 0, 0, ...  \n",
       "3  [0, 0, 0, 0, 0, 0, 0, 0, 0, 1, 0, 0, 0, 0, 0, ...  \n",
       "4  [0, 0, 0, 0, 0, 0, 0, 0, 0, 1, 0, 0, 0, 0, 0, ...  "
      ]
     },
     "execution_count": 182,
     "metadata": {},
     "output_type": "execute_result"
    }
   ],
   "source": [
    "df_final.head()"
   ]
  },
  {
   "cell_type": "code",
   "execution_count": 183,
   "metadata": {},
   "outputs": [
    {
     "data": {
      "text/plain": [
       "27"
      ]
     },
     "execution_count": 183,
     "metadata": {},
     "output_type": "execute_result"
    }
   ],
   "source": [
    "len(df_final.encoded[0])"
   ]
  },
  {
   "cell_type": "code",
   "execution_count": null,
   "metadata": {},
   "outputs": [],
   "source": []
  }
 ],
 "metadata": {
  "kernelspec": {
   "display_name": "Python 3",
   "language": "python",
   "name": "python3"
  },
  "language_info": {
   "codemirror_mode": {
    "name": "ipython",
    "version": 3
   },
   "file_extension": ".py",
   "mimetype": "text/x-python",
   "name": "python",
   "nbconvert_exporter": "python",
   "pygments_lexer": "ipython3",
   "version": "3.7.4"
  }
 },
 "nbformat": 4,
 "nbformat_minor": 2
}
